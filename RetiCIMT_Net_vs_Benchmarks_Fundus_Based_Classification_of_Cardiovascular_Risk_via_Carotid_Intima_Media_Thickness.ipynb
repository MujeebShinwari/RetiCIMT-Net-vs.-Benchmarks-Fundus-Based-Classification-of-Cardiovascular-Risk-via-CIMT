{
  "nbformat": 4,
  "nbformat_minor": 0,
  "metadata": {
    "colab": {
      "provenance": [],
      "authorship_tag": "ABX9TyMbCg/mP/Hf02Qn4iTVMs/+",
      "include_colab_link": true
    },
    "kernelspec": {
      "name": "python3",
      "display_name": "Python 3"
    },
    "language_info": {
      "name": "python"
    }
  },
  "cells": [
    {
      "cell_type": "markdown",
      "metadata": {
        "id": "view-in-github",
        "colab_type": "text"
      },
      "source": [
        "<a href=\"https://colab.research.google.com/github/MujeebShinwari/RetiCIMT-Net-vs.-Benchmarks-Fundus-Based-Classification-of-Cardiovascular-Risk-via-CIMT/blob/main/RetiCIMT_Net_vs_Benchmarks_Fundus_Based_Classification_of_Cardiovascular_Risk_via_Carotid_Intima_Media_Thickness.ipynb\" target=\"_parent\"><img src=\"https://colab.research.google.com/assets/colab-badge.svg\" alt=\"Open In Colab\"/></a>"
      ]
    },
    {
      "cell_type": "code",
      "execution_count": null,
      "metadata": {
        "id": "ki0dzTiWKe2s"
      },
      "outputs": [],
      "source": []
    }
  ]
}